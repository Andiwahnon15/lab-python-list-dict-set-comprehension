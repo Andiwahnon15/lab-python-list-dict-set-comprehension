{
 "cells": [
  {
   "cell_type": "markdown",
   "id": "25d7736c-ba17-4aff-b6bb-66eba20fbf4e",
   "metadata": {},
   "source": [
    "# Lab | List, Dict and Set Comprehension"
   ]
  },
  {
   "cell_type": "markdown",
   "id": "7dd3cbde-675a-4b81-92c3-f728846dbe06",
   "metadata": {},
   "source": [
    "## Exercise: Managing Customer Orders Optimized with Comprehension"
   ]
  },
  {
   "cell_type": "markdown",
   "id": "5d500160-2fb7-4777-b5e4-09d45ebaf328",
   "metadata": {},
   "source": [
    "In the previous exercise, you developed a program to manage customer orders and inventory. Now, let's take it a step further and incorporate comprehension into your code.\n",
    "\n",
    "Follow the steps below to complete the exercise:\n",
    "\n",
    "1. Review your code from the previous exercise and identify areas where you can apply comprehension to simplify and streamline your code. \n",
    "\n",
    "    - *Hint: Apply it to initialize inventory, updating the inventory and printing the updated inventory.*\n",
    "    \n",
    "    - For example, in initializing the inventory, we could have:\n",
    "    \n",
    "        ```python\n",
    "        def initialize_inventory(products):\n",
    "            inventory = {product: int(input(f\"Enter the quantity of {product}s available: \")) for product in products}\n",
    "            return inventory\n",
    "\n",
    "        ```\n",
    "<br>\n",
    "    \n",
    "    \n",
    "2. Modify the function get_customer_orders so it prompts the user to enter the number of customer orders and gathers the product names using a loop and user input. Use comprehension.\n",
    "\n",
    "3. Add a new function to calculate the total price of the customer order. For each product in customer_orders, prompt the user to enter the price of that product. Use comprehension to calculate the total price. Note: assume that the user can only have 1 unit of each product.\n",
    "\n",
    "4. Modify the update_inventory function to remove the product from the inventory if its quantity becomes zero after fulfilling the customer orders. Use comprehension to filter out the products with a quantity of zero from the inventory.\n",
    "\n",
    "5. Print the total price of the customer order.\n",
    "\n",
    "Your code should produce output similar to the following:\n",
    "\n",
    "```python\n",
    "Enter the quantity of t-shirts available:  5\n",
    "Enter the quantity of mugs available:  4\n",
    "Enter the quantity of hats available:  3\n",
    "Enter the quantity of books available:  2\n",
    "Enter the quantity of keychains available:  1\n",
    "Enter the number of customer orders:  2\n",
    "Enter the name of a product that a customer wants to order:  hat\n",
    "Enter the name of a product that a customer wants to order:  keychain\n",
    "\n",
    "Order Statistics:\n",
    "Total Products Ordered: 2\n",
    "Percentage of Unique Products Ordered: 40.0\n",
    "\n",
    "Updated Inventory:\n",
    "t-shirt: 5\n",
    "mug: 4\n",
    "hat: 2\n",
    "book: 2\n",
    "Enter the price of keychain:  5\n",
    "Enter the price of hat:  10\n",
    "Total Price: 15.0\n",
    "\n",
    "```\n"
   ]
  },
  {
   "cell_type": "code",
   "execution_count": 10,
   "id": "9abd7226",
   "metadata": {},
   "outputs": [
    {
     "data": {
      "text/plain": [
       "'\\nproducts = [\"t-shirt\",\"mug\",\"hat\",\"book\",\"keychain\"]\\ninventory={}\\n\\ndef initialize_inventory(products):\\n inventory={}\\n for product in products:\\n    quantity = int(input(f\"Enter the quantity of {product}: \"))\\n    inventory[product] = quantity\\n return inventory\\n '"
      ]
     },
     "execution_count": 10,
     "metadata": {},
     "output_type": "execute_result"
    }
   ],
   "source": [
    "\"\"\"\n",
    "products = [\"t-shirt\",\"mug\",\"hat\",\"book\",\"keychain\"]\n",
    "inventory={}\n",
    "\n",
    "def initialize_inventory(products):\n",
    " inventory={}\n",
    " for product in products:\n",
    "    quantity = int(input(f\"Enter the quantity of {product}: \"))\n",
    "    inventory[product] = quantity\n",
    " return inventory\n",
    " \"\"\""
   ]
  },
  {
   "cell_type": "code",
   "execution_count": 71,
   "id": "9b4f3d0a",
   "metadata": {},
   "outputs": [],
   "source": [
    "products = [\"t-shirt\",\"mug\",\"hat\",\"book\",\"keychain\"]\n",
    "inventory={}\n",
    "\n",
    "def initialize_inventory(products):\n",
    "            \n",
    "    inventory = {product: int(input(f\"Enter the quantity of {product} available: \")) for product in products}\n",
    "    return inventory\n"
   ]
  },
  {
   "cell_type": "code",
   "execution_count": 44,
   "id": "6c3cd46f",
   "metadata": {},
   "outputs": [
    {
     "data": {
      "text/plain": [
       "{'hat', 'mug'}"
      ]
     },
     "execution_count": 44,
     "metadata": {},
     "output_type": "execute_result"
    }
   ],
   "source": [
    "\"\"\"def get_customer_orders():\n",
    " customer_orders = set()\n",
    " while True:\n",
    "         product = input(\"Enter the product that the costumer wants to buy:\").lower()\n",
    "         if product in products:\n",
    "             if product in customer_orders:\n",
    "                 print(\"the product was already order\")\n",
    "             else:\n",
    "                 customer_orders.add(product)\n",
    "         else:\n",
    "            print(\"Try again\")\n",
    "         \n",
    "         choose=input(\"Do you want to choose antoher products? (yes or no):\").lower()\n",
    "         if choose != \"yes\":\n",
    "            break\n",
    " return customer_orders\"\"\"\n",
    "\n",
    "def get_customer_orders():\n",
    " customer_orders = set()\n",
    " quantity_ordered = int(input(\"How many products will you order?:\"))\n",
    " customer_orders = {input(\"Which product would you like to order?:\".lower().strip()) for item in range (quantity_ordered)}\n",
    " return customer_orders\n",
    "\n"
   ]
  },
  {
   "cell_type": "code",
   "execution_count": 85,
   "id": "99e9e4d1",
   "metadata": {},
   "outputs": [
    {
     "data": {
      "text/plain": [
       "'\\n    inventory = {product: stock - 1 if product in customer_orders else stock for product, stock in inventory.items()}\\n    inventory = {product: stock for product, stock in inventory.items() if stock > 0}\\n    '"
      ]
     },
     "execution_count": 85,
     "metadata": {},
     "output_type": "execute_result"
    }
   ],
   "source": [
    "\"\"\"4. Modify the update_inventory function to remove the product from the inventory if its quantity\n",
    "becomes zero after fulfilling the customer orders. Use comprehension to filter out the products with\n",
    "a quantity of zero from the inventory.\"\"\"\n",
    "\n",
    "def update_inventory(customer_orders, inventory):\n",
    "   for product in customer_orders:\n",
    "        inventory[product] -= 1\n",
    "   cero_inventory = [key for key, value in inventory.items() if value == 0]\n",
    "   \n",
    "   for item in cero_inventory:\n",
    "        del(inventory[item])\n",
    "    \n",
    "   return inventory\n",
    "\n",
    "\"\"\"\n",
    "    inventory = {product: stock - 1 if product in customer_orders else stock for product, stock in inventory.items()}\n",
    "    inventory = {product: stock for product, stock in inventory.items() if stock > 0}\n",
    "    \"\"\"\n",
    "   \n",
    "\n",
    "\n",
    "\n"
   ]
  },
  {
   "cell_type": "code",
   "execution_count": 69,
   "id": "7415ca53",
   "metadata": {},
   "outputs": [],
   "source": [
    "def calculate_order_statistics(customer_orders, products):\n",
    " total_products_ordered = len(customer_orders)\n",
    " percentage_unique_products = (total_products_ordered/len(products)) * 100\n",
    " order_statistics = (total_products_ordered, percentage_unique_products)\n",
    " return order_statistics"
   ]
  },
  {
   "cell_type": "code",
   "execution_count": 47,
   "id": "906891c4",
   "metadata": {},
   "outputs": [],
   "source": [
    "def print_order_statistics (order_statistics):\n",
    " print(\"Order Statistics:\")\n",
    " print(\"Total products ordered:\", order_statistics[0])\n",
    " print(\"Percentage of unique products ordered\", order_statistics[1])\n"
   ]
  },
  {
   "cell_type": "code",
   "execution_count": 77,
   "id": "6c88c2ac",
   "metadata": {},
   "outputs": [],
   "source": [
    "def print_updated_inventory (inventory):\n",
    "    print(\"Updated Inventory:\")\n",
    "    for product in inventory:\n",
    "        print(f\"{product}:\", inventory[product])"
   ]
  },
  {
   "cell_type": "code",
   "execution_count": 55,
   "id": "2d73d585",
   "metadata": {},
   "outputs": [],
   "source": [
    "\"\"\"3. Add a new function to calculate the total price of the customer order. For each product\n",
    "in customer_orders, prompt the user to enter the price of that product. Use comprehension to\n",
    "calculate the total price. Note: assume that the user can only have 1 unit of each product.\"\"\"\n",
    "\n",
    "def calculate_total_price(customer_orders):\n",
    "    prices = {int(input(f\"Enter the price of {item}?:\").strip()) for item in customer_orders}\n",
    "    total_price = sum(prices)\n",
    "    print (f\"The total price: {total_price}\")"
   ]
  },
  {
   "cell_type": "code",
   "execution_count": 86,
   "id": "fe440811",
   "metadata": {},
   "outputs": [
    {
     "name": "stdout",
     "output_type": "stream",
     "text": [
      "Order Statistics:\n",
      "Total products ordered: 3\n",
      "Percentage of unique products ordered 60.0\n",
      "The total price: 38\n",
      "Updated Inventory:\n",
      "t-shirt: 10\n",
      "mug: 100\n",
      "hat: 9\n",
      "book: 9\n",
      "keychain: 10\n"
     ]
    }
   ],
   "source": [
    "products = [\"t-shirt\",\"mug\",\"hat\",\"book\",\"keychain\"]\n",
    "inventory = {}\n",
    "\n",
    "inventory = initialize_inventory(products)\n",
    "\n",
    "customer_orders = get_customer_orders()\n",
    "\n",
    "inventory = update_inventory(customer_orders, inventory)\n",
    "\n",
    "order_statistics = calculate_order_statistics(customer_orders, products)\n",
    "\n",
    "print_order_statistics(order_statistics)\n",
    "\n",
    "calculate_total_price(customer_orders)\n",
    "\n",
    "print_updated_inventory(inventory)"
   ]
  }
 ],
 "metadata": {
  "kernelspec": {
   "display_name": "Python 3 (ipykernel)",
   "language": "python",
   "name": "python3"
  },
  "language_info": {
   "codemirror_mode": {
    "name": "ipython",
    "version": 3
   },
   "file_extension": ".py",
   "mimetype": "text/x-python",
   "name": "python",
   "nbconvert_exporter": "python",
   "pygments_lexer": "ipython3",
   "version": "3.11.7"
  }
 },
 "nbformat": 4,
 "nbformat_minor": 5
}
